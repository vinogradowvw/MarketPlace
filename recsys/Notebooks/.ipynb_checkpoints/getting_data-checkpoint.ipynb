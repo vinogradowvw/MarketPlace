{
 "cells": [
  {
   "cell_type": "code",
   "execution_count": 54,
   "metadata": {
    "vscode": {
     "languageId": "bat"
    }
   },
   "outputs": [
    {
     "name": "stdout",
     "output_type": "stream",
     "text": [
      "Collecting en-core-web-sm==3.7.1\n",
      "  Downloading https://github.com/explosion/spacy-models/releases/download/en_core_web_sm-3.7.1/en_core_web_sm-3.7.1-py3-none-any.whl (12.8 MB)\n",
      "\u001b[2K     \u001b[90m━━━━━━━━━━━━━━━━━━━━━━━━━━━━━━━━━━━━━━━━\u001b[0m \u001b[32m12.8/12.8 MB\u001b[0m \u001b[31m4.1 MB/s\u001b[0m eta \u001b[36m0:00:00\u001b[0m00:01\u001b[0m00:01\u001b[0m\n",
      "\u001b[?25hRequirement already satisfied: spacy<3.8.0,>=3.7.2 in /home/vinogradov/anaconda3/lib/python3.11/site-packages (from en-core-web-sm==3.7.1) (3.7.4)\n",
      "Requirement already satisfied: spacy-legacy<3.1.0,>=3.0.11 in /home/vinogradov/anaconda3/lib/python3.11/site-packages (from spacy<3.8.0,>=3.7.2->en-core-web-sm==3.7.1) (3.0.12)\n",
      "Requirement already satisfied: spacy-loggers<2.0.0,>=1.0.0 in /home/vinogradov/anaconda3/lib/python3.11/site-packages (from spacy<3.8.0,>=3.7.2->en-core-web-sm==3.7.1) (1.0.5)\n",
      "Requirement already satisfied: murmurhash<1.1.0,>=0.28.0 in /home/vinogradov/anaconda3/lib/python3.11/site-packages (from spacy<3.8.0,>=3.7.2->en-core-web-sm==3.7.1) (1.0.10)\n",
      "Requirement already satisfied: cymem<2.1.0,>=2.0.2 in /home/vinogradov/anaconda3/lib/python3.11/site-packages (from spacy<3.8.0,>=3.7.2->en-core-web-sm==3.7.1) (2.0.8)\n",
      "Requirement already satisfied: preshed<3.1.0,>=3.0.2 in /home/vinogradov/anaconda3/lib/python3.11/site-packages (from spacy<3.8.0,>=3.7.2->en-core-web-sm==3.7.1) (3.0.9)\n",
      "Requirement already satisfied: thinc<8.3.0,>=8.2.2 in /home/vinogradov/anaconda3/lib/python3.11/site-packages (from spacy<3.8.0,>=3.7.2->en-core-web-sm==3.7.1) (8.2.3)\n",
      "Requirement already satisfied: wasabi<1.2.0,>=0.9.1 in /home/vinogradov/anaconda3/lib/python3.11/site-packages (from spacy<3.8.0,>=3.7.2->en-core-web-sm==3.7.1) (1.1.2)\n",
      "Requirement already satisfied: srsly<3.0.0,>=2.4.3 in /home/vinogradov/anaconda3/lib/python3.11/site-packages (from spacy<3.8.0,>=3.7.2->en-core-web-sm==3.7.1) (2.4.8)\n",
      "Requirement already satisfied: catalogue<2.1.0,>=2.0.6 in /home/vinogradov/anaconda3/lib/python3.11/site-packages (from spacy<3.8.0,>=3.7.2->en-core-web-sm==3.7.1) (2.0.10)\n",
      "Requirement already satisfied: weasel<0.4.0,>=0.1.0 in /home/vinogradov/anaconda3/lib/python3.11/site-packages (from spacy<3.8.0,>=3.7.2->en-core-web-sm==3.7.1) (0.3.4)\n",
      "Requirement already satisfied: typer<0.10.0,>=0.3.0 in /home/vinogradov/anaconda3/lib/python3.11/site-packages (from spacy<3.8.0,>=3.7.2->en-core-web-sm==3.7.1) (0.9.4)\n",
      "Requirement already satisfied: smart-open<7.0.0,>=5.2.1 in /home/vinogradov/anaconda3/lib/python3.11/site-packages (from spacy<3.8.0,>=3.7.2->en-core-web-sm==3.7.1) (5.2.1)\n",
      "Requirement already satisfied: tqdm<5.0.0,>=4.38.0 in /home/vinogradov/anaconda3/lib/python3.11/site-packages (from spacy<3.8.0,>=3.7.2->en-core-web-sm==3.7.1) (4.65.0)\n",
      "Requirement already satisfied: requests<3.0.0,>=2.13.0 in /home/vinogradov/anaconda3/lib/python3.11/site-packages (from spacy<3.8.0,>=3.7.2->en-core-web-sm==3.7.1) (2.31.0)\n",
      "Requirement already satisfied: pydantic!=1.8,!=1.8.1,<3.0.0,>=1.7.4 in /home/vinogradov/anaconda3/lib/python3.11/site-packages (from spacy<3.8.0,>=3.7.2->en-core-web-sm==3.7.1) (2.5.3)\n",
      "Requirement already satisfied: jinja2 in /home/vinogradov/anaconda3/lib/python3.11/site-packages (from spacy<3.8.0,>=3.7.2->en-core-web-sm==3.7.1) (3.1.3)\n",
      "Requirement already satisfied: setuptools in /home/vinogradov/anaconda3/lib/python3.11/site-packages (from spacy<3.8.0,>=3.7.2->en-core-web-sm==3.7.1) (68.2.2)\n",
      "Requirement already satisfied: packaging>=20.0 in /home/vinogradov/anaconda3/lib/python3.11/site-packages (from spacy<3.8.0,>=3.7.2->en-core-web-sm==3.7.1) (23.2)\n",
      "Requirement already satisfied: langcodes<4.0.0,>=3.2.0 in /home/vinogradov/anaconda3/lib/python3.11/site-packages (from spacy<3.8.0,>=3.7.2->en-core-web-sm==3.7.1) (3.3.0)\n",
      "Requirement already satisfied: numpy>=1.19.0 in /home/vinogradov/anaconda3/lib/python3.11/site-packages (from spacy<3.8.0,>=3.7.2->en-core-web-sm==3.7.1) (1.26.4)\n",
      "Requirement already satisfied: annotated-types>=0.4.0 in /home/vinogradov/anaconda3/lib/python3.11/site-packages (from pydantic!=1.8,!=1.8.1,<3.0.0,>=1.7.4->spacy<3.8.0,>=3.7.2->en-core-web-sm==3.7.1) (0.6.0)\n",
      "Requirement already satisfied: pydantic-core==2.14.6 in /home/vinogradov/anaconda3/lib/python3.11/site-packages (from pydantic!=1.8,!=1.8.1,<3.0.0,>=1.7.4->spacy<3.8.0,>=3.7.2->en-core-web-sm==3.7.1) (2.14.6)\n",
      "Requirement already satisfied: typing-extensions>=4.6.1 in /home/vinogradov/anaconda3/lib/python3.11/site-packages (from pydantic!=1.8,!=1.8.1,<3.0.0,>=1.7.4->spacy<3.8.0,>=3.7.2->en-core-web-sm==3.7.1) (4.9.0)\n",
      "Requirement already satisfied: charset-normalizer<4,>=2 in /home/vinogradov/anaconda3/lib/python3.11/site-packages (from requests<3.0.0,>=2.13.0->spacy<3.8.0,>=3.7.2->en-core-web-sm==3.7.1) (2.0.4)\n",
      "Requirement already satisfied: idna<4,>=2.5 in /home/vinogradov/anaconda3/lib/python3.11/site-packages (from requests<3.0.0,>=2.13.0->spacy<3.8.0,>=3.7.2->en-core-web-sm==3.7.1) (3.4)\n",
      "Requirement already satisfied: urllib3<3,>=1.21.1 in /home/vinogradov/anaconda3/lib/python3.11/site-packages (from requests<3.0.0,>=2.13.0->spacy<3.8.0,>=3.7.2->en-core-web-sm==3.7.1) (2.0.7)\n",
      "Requirement already satisfied: certifi>=2017.4.17 in /home/vinogradov/anaconda3/lib/python3.11/site-packages (from requests<3.0.0,>=2.13.0->spacy<3.8.0,>=3.7.2->en-core-web-sm==3.7.1) (2024.2.2)\n",
      "Requirement already satisfied: blis<0.8.0,>=0.7.8 in /home/vinogradov/anaconda3/lib/python3.11/site-packages (from thinc<8.3.0,>=8.2.2->spacy<3.8.0,>=3.7.2->en-core-web-sm==3.7.1) (0.7.11)\n",
      "Requirement already satisfied: confection<1.0.0,>=0.0.1 in /home/vinogradov/anaconda3/lib/python3.11/site-packages (from thinc<8.3.0,>=8.2.2->spacy<3.8.0,>=3.7.2->en-core-web-sm==3.7.1) (0.1.4)\n",
      "Requirement already satisfied: click<9.0.0,>=7.1.1 in /home/vinogradov/anaconda3/lib/python3.11/site-packages (from typer<0.10.0,>=0.3.0->spacy<3.8.0,>=3.7.2->en-core-web-sm==3.7.1) (8.1.7)\n",
      "Requirement already satisfied: cloudpathlib<0.17.0,>=0.7.0 in /home/vinogradov/anaconda3/lib/python3.11/site-packages (from weasel<0.4.0,>=0.1.0->spacy<3.8.0,>=3.7.2->en-core-web-sm==3.7.1) (0.16.0)\n",
      "Requirement already satisfied: MarkupSafe>=2.0 in /home/vinogradov/anaconda3/lib/python3.11/site-packages (from jinja2->spacy<3.8.0,>=3.7.2->en-core-web-sm==3.7.1) (2.1.3)\n",
      "Installing collected packages: en-core-web-sm\n",
      "Successfully installed en-core-web-sm-3.7.1\n",
      "\u001b[38;5;2m✔ Download and installation successful\u001b[0m\n",
      "You can now load the package via spacy.load('en_core_web_sm')\n"
     ]
    }
   ],
   "source": [
    "!python3 -m spacy download en_core_web_sm"
   ]
  },
  {
   "cell_type": "code",
   "execution_count": 1,
   "metadata": {},
   "outputs": [],
   "source": [
    "from datasets import load_dataset, Image\n",
    "import pandas as pd\n",
    "import numpy as np\n",
    "import seaborn as sns\n",
    "import spacy"
   ]
  },
  {
   "cell_type": "code",
   "execution_count": 2,
   "metadata": {},
   "outputs": [],
   "source": [
    "posts = load_dataset(\"p1atdev/pinterest\", split='train', )\n"
   ]
  },
  {
   "cell_type": "code",
   "execution_count": 3,
   "metadata": {},
   "outputs": [
    {
     "data": {
      "text/html": [
       "<div>\n",
       "<style scoped>\n",
       "    .dataframe tbody tr th:only-of-type {\n",
       "        vertical-align: middle;\n",
       "    }\n",
       "\n",
       "    .dataframe tbody tr th {\n",
       "        vertical-align: top;\n",
       "    }\n",
       "\n",
       "    .dataframe thead th {\n",
       "        text-align: right;\n",
       "    }\n",
       "</style>\n",
       "<table border=\"1\" class=\"dataframe\">\n",
       "  <thead>\n",
       "    <tr style=\"text-align: right;\">\n",
       "      <th></th>\n",
       "      <th>tags</th>\n",
       "      <th>url</th>\n",
       "      <th>src</th>\n",
       "      <th>alt</th>\n",
       "    </tr>\n",
       "  </thead>\n",
       "  <tbody>\n",
       "    <tr>\n",
       "      <th>0</th>\n",
       "      <td>[Character Design Animation, Character Design ...</td>\n",
       "      <td>https://www.pinterest.com/pin/12525705205055127/</td>\n",
       "      <td>https://i.pinimg.com/originals/4f/42/05/4f4205...</td>\n",
       "      <td>Here Comes The Grump - Concept Art</td>\n",
       "    </tr>\n",
       "    <tr>\n",
       "      <th>1</th>\n",
       "      <td>[Little Nightmares Fanart, Dreams And Nightmar...</td>\n",
       "      <td>https://www.pinterest.com/pin/832814156105807021/</td>\n",
       "      <td>https://i.pinimg.com/originals/91/43/b9/9143b9...</td>\n",
       "      <td>Tarsier Studios Little Nightmares II Art Blast...</td>\n",
       "    </tr>\n",
       "    <tr>\n",
       "      <th>2</th>\n",
       "      <td>[Cyberpunk City, Cyberpunk 2077, Cyberpunk Kun...</td>\n",
       "      <td>https://www.pinterest.com/pin/515099276148793993/</td>\n",
       "      <td>https://i.pinimg.com/originals/28/e1/24/28e124...</td>\n",
       "      <td>Showcase of Mind Blowing Concept Art of Futuri...</td>\n",
       "    </tr>\n",
       "    <tr>\n",
       "      <th>3</th>\n",
       "      <td>[Fantasy Kunst, Fantasy City, Fantasy Places, ...</td>\n",
       "      <td>https://www.pinterest.com/pin/354728908162906711/</td>\n",
       "      <td>https://i.pinimg.com/originals/01/98/37/019837...</td>\n",
       "      <td></td>\n",
       "    </tr>\n",
       "    <tr>\n",
       "      <th>4</th>\n",
       "      <td>[Creature Concept Art, Creature Design, Creatu...</td>\n",
       "      <td>https://www.pinterest.com/pin/894738650947032543/</td>\n",
       "      <td>https://i.pinimg.com/originals/22/de/51/22de51...</td>\n",
       "      <td>Book of the Dead: Concept Art | Unity Blog</td>\n",
       "    </tr>\n",
       "    <tr>\n",
       "      <th>...</th>\n",
       "      <td>...</td>\n",
       "      <td>...</td>\n",
       "      <td>...</td>\n",
       "      <td>...</td>\n",
       "    </tr>\n",
       "    <tr>\n",
       "      <th>3570</th>\n",
       "      <td>[Photo 3d, Image Beautiful, 3d Mesh, Art Vinta...</td>\n",
       "      <td>https://www.pinterest.com/pin/564638872046245267/</td>\n",
       "      <td>https://i.pinimg.com/originals/f7/44/8d/f7448d...</td>\n",
       "      <td>The Surreal Portraiture of Simple Objects</td>\n",
       "    </tr>\n",
       "    <tr>\n",
       "      <th>3571</th>\n",
       "      <td>[Girls Cartoon Art, Cartoon Art Styles, Anime ...</td>\n",
       "      <td>https://www.pinterest.com/pin/706150416606406453/</td>\n",
       "      <td>https://i.pinimg.com/originals/2d/63/6b/2d636b...</td>\n",
       "      <td>Stephanie Priscilla on Twitter</td>\n",
       "    </tr>\n",
       "    <tr>\n",
       "      <th>3572</th>\n",
       "      <td>[Japon Illustration, Cute Illustration, Websit...</td>\n",
       "      <td>https://www.pinterest.com/pin/37858453109156245/</td>\n",
       "      <td>https://i.pinimg.com/originals/d5/15/92/d51592...</td>\n",
       "      <td>Cat Tea by SeerLight on DeviantArt</td>\n",
       "    </tr>\n",
       "    <tr>\n",
       "      <th>3573</th>\n",
       "      <td>[Cyberpunk Aesthetic, Arte Cyberpunk, Pixel Ar...</td>\n",
       "      <td>https://www.pinterest.com/pin/702491241888463819/</td>\n",
       "      <td>https://i.pinimg.com/originals/e5/b1/c0/e5b1c0...</td>\n",
       "      <td>Cyberpunk Pixel Scene Commission for TopHatCal...</td>\n",
       "    </tr>\n",
       "    <tr>\n",
       "      <th>3574</th>\n",
       "      <td>[Tumblr Trippy, Trippy Quotes, Trippy Gif, Tri...</td>\n",
       "      <td>https://www.pinterest.com/pin/297659856625270558/</td>\n",
       "      <td>https://i.pinimg.com/originals/32/dd/7b/32dd7b...</td>\n",
       "      <td></td>\n",
       "    </tr>\n",
       "  </tbody>\n",
       "</table>\n",
       "<p>3575 rows × 4 columns</p>\n",
       "</div>"
      ],
      "text/plain": [
       "                                                   tags  \\\n",
       "0     [Character Design Animation, Character Design ...   \n",
       "1     [Little Nightmares Fanart, Dreams And Nightmar...   \n",
       "2     [Cyberpunk City, Cyberpunk 2077, Cyberpunk Kun...   \n",
       "3     [Fantasy Kunst, Fantasy City, Fantasy Places, ...   \n",
       "4     [Creature Concept Art, Creature Design, Creatu...   \n",
       "...                                                 ...   \n",
       "3570  [Photo 3d, Image Beautiful, 3d Mesh, Art Vinta...   \n",
       "3571  [Girls Cartoon Art, Cartoon Art Styles, Anime ...   \n",
       "3572  [Japon Illustration, Cute Illustration, Websit...   \n",
       "3573  [Cyberpunk Aesthetic, Arte Cyberpunk, Pixel Ar...   \n",
       "3574  [Tumblr Trippy, Trippy Quotes, Trippy Gif, Tri...   \n",
       "\n",
       "                                                    url  \\\n",
       "0      https://www.pinterest.com/pin/12525705205055127/   \n",
       "1     https://www.pinterest.com/pin/832814156105807021/   \n",
       "2     https://www.pinterest.com/pin/515099276148793993/   \n",
       "3     https://www.pinterest.com/pin/354728908162906711/   \n",
       "4     https://www.pinterest.com/pin/894738650947032543/   \n",
       "...                                                 ...   \n",
       "3570  https://www.pinterest.com/pin/564638872046245267/   \n",
       "3571  https://www.pinterest.com/pin/706150416606406453/   \n",
       "3572   https://www.pinterest.com/pin/37858453109156245/   \n",
       "3573  https://www.pinterest.com/pin/702491241888463819/   \n",
       "3574  https://www.pinterest.com/pin/297659856625270558/   \n",
       "\n",
       "                                                    src  \\\n",
       "0     https://i.pinimg.com/originals/4f/42/05/4f4205...   \n",
       "1     https://i.pinimg.com/originals/91/43/b9/9143b9...   \n",
       "2     https://i.pinimg.com/originals/28/e1/24/28e124...   \n",
       "3     https://i.pinimg.com/originals/01/98/37/019837...   \n",
       "4     https://i.pinimg.com/originals/22/de/51/22de51...   \n",
       "...                                                 ...   \n",
       "3570  https://i.pinimg.com/originals/f7/44/8d/f7448d...   \n",
       "3571  https://i.pinimg.com/originals/2d/63/6b/2d636b...   \n",
       "3572  https://i.pinimg.com/originals/d5/15/92/d51592...   \n",
       "3573  https://i.pinimg.com/originals/e5/b1/c0/e5b1c0...   \n",
       "3574  https://i.pinimg.com/originals/32/dd/7b/32dd7b...   \n",
       "\n",
       "                                                    alt  \n",
       "0                    Here Comes The Grump - Concept Art  \n",
       "1     Tarsier Studios Little Nightmares II Art Blast...  \n",
       "2     Showcase of Mind Blowing Concept Art of Futuri...  \n",
       "3                                                        \n",
       "4            Book of the Dead: Concept Art | Unity Blog  \n",
       "...                                                 ...  \n",
       "3570          The Surreal Portraiture of Simple Objects  \n",
       "3571                     Stephanie Priscilla on Twitter  \n",
       "3572                 Cat Tea by SeerLight on DeviantArt  \n",
       "3573  Cyberpunk Pixel Scene Commission for TopHatCal...  \n",
       "3574                                                     \n",
       "\n",
       "[3575 rows x 4 columns]"
      ]
     },
     "execution_count": 3,
     "metadata": {},
     "output_type": "execute_result"
    }
   ],
   "source": [
    "posts_df = posts.to_pandas()\n",
    "posts_df"
   ]
  },
  {
   "cell_type": "code",
   "execution_count": 4,
   "metadata": {},
   "outputs": [
    {
     "data": {
      "text/plain": [
       "tags    0\n",
       "url     0\n",
       "src     0\n",
       "alt     0\n",
       "dtype: int64"
      ]
     },
     "execution_count": 4,
     "metadata": {},
     "output_type": "execute_result"
    }
   ],
   "source": [
    "posts_df.isna().sum()"
   ]
  },
  {
   "cell_type": "code",
   "execution_count": 5,
   "metadata": {},
   "outputs": [
    {
     "name": "stdout",
     "output_type": "stream",
     "text": [
      "<class 'pandas.core.frame.DataFrame'>\n",
      "RangeIndex: 3575 entries, 0 to 3574\n",
      "Data columns (total 4 columns):\n",
      " #   Column  Non-Null Count  Dtype \n",
      "---  ------  --------------  ----- \n",
      " 0   tags    3575 non-null   object\n",
      " 1   url     3575 non-null   object\n",
      " 2   src     3575 non-null   object\n",
      " 3   alt     3575 non-null   object\n",
      "dtypes: object(4)\n",
      "memory usage: 111.8+ KB\n"
     ]
    }
   ],
   "source": [
    "posts_df.info()"
   ]
  },
  {
   "cell_type": "code",
   "execution_count": 6,
   "metadata": {},
   "outputs": [
    {
     "data": {
      "text/plain": [
       "15"
      ]
     },
     "execution_count": 6,
     "metadata": {},
     "output_type": "execute_result"
    }
   ],
   "source": [
    "posts_df.tags.apply(lambda x: len(x) == 0).sum()"
   ]
  },
  {
   "cell_type": "markdown",
   "metadata": {},
   "source": [
    "## \"Alt\" feature"
   ]
  },
  {
   "cell_type": "code",
   "execution_count": 7,
   "metadata": {},
   "outputs": [
    {
     "data": {
      "text/plain": [
       "615"
      ]
     },
     "execution_count": 7,
     "metadata": {},
     "output_type": "execute_result"
    }
   ],
   "source": [
    "np.sum(posts_df.alt.str.len() == 0)"
   ]
  },
  {
   "cell_type": "code",
   "execution_count": 8,
   "metadata": {},
   "outputs": [
    {
     "name": "stderr",
     "output_type": "stream",
     "text": [
      "/home/vinogradov/anaconda3/lib/python3.11/site-packages/seaborn/_oldcore.py:1119: FutureWarning: use_inf_as_na option is deprecated and will be removed in a future version. Convert inf values to NaN before operating instead.\n",
      "  with pd.option_context('mode.use_inf_as_na', True):\n"
     ]
    },
    {
     "data": {
      "text/plain": [
       "<Axes: xlabel='alt', ylabel='Count'>"
      ]
     },
     "execution_count": 8,
     "metadata": {},
     "output_type": "execute_result"
    },
    {
     "data": {
      "image/png": "[encoded data removed]",
      "text/plain": [
       "<Figure size 640x480 with 1 Axes>"
      ]
     },
     "metadata": {},
     "output_type": "display_data"
    }
   ],
   "source": [
    "sns.histplot(posts_df.alt.str.len())"
   ]
  },
  {
   "cell_type": "code",
   "execution_count": 9,
   "metadata": {},
   "outputs": [
    {
     "data": {
      "text/plain": [
       "count    3575.000000\n",
       "mean       41.160280\n",
       "std        52.866757\n",
       "min         0.000000\n",
       "25%        10.000000\n",
       "50%        28.000000\n",
       "75%        56.000000\n",
       "max       500.000000\n",
       "Name: alt, dtype: float64"
      ]
     },
     "execution_count": 9,
     "metadata": {},
     "output_type": "execute_result"
    }
   ],
   "source": [
    "posts_df.alt.str.len().describe()"
   ]
  },
  {
   "cell_type": "code",
   "execution_count": 10,
   "metadata": {},
   "outputs": [],
   "source": [
    "nlp = spacy.load('en_core_web_sm')\n",
    "\n",
    "def tokenize_and_lemmatize(string: str, nlp) -> str:\n",
    "    doc = nlp(string)\n",
    "    return (\" \".join([token.lemma_.lower() for token in doc]))\n",
    "\n",
    "def remove_non_alphabetic(string: str, nlp) -> str:\n",
    "    return (\" \".join(word for word in string.split(\" \") if word.isalpha()))\n",
    "    \n",
    "posts_df.alt = posts_df.alt.apply(lambda x: tokenize_and_lemmatize(x, nlp))"
   ]
  },
  {
   "cell_type": "code",
   "execution_count": 11,
   "metadata": {},
   "outputs": [
    {
     "data": {
      "text/plain": [
       "tags    [Character Design Animation, Character Design ...\n",
       "url      https://www.pinterest.com/pin/12525705205055127/\n",
       "src     https://i.pinimg.com/originals/4f/42/05/4f4205...\n",
       "alt                     here come the grump - concept art\n",
       "Name: 0, dtype: object"
      ]
     },
     "execution_count": 11,
     "metadata": {},
     "output_type": "execute_result"
    }
   ],
   "source": [
    "posts_df.iloc[0]"
   ]
  }
 ],
 "metadata": {
  "kernelspec": {
   "display_name": "Python 3 (ipykernel)",
   "language": "python",
   "name": "python3"
  },
  "language_info": {
   "codemirror_mode": {
    "name": "ipython",
    "version": 3
   },
   "file_extension": ".py",
   "mimetype": "text/x-python",
   "name": "python",
   "nbconvert_exporter": "python",
   "pygments_lexer": "ipython3",
   "version": "3.11.7"
  }
 },
 "nbformat": 4,
 "nbformat_minor": 4
}
